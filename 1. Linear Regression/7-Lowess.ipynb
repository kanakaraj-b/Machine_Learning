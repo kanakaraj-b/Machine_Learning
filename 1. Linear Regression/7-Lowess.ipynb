{
 "cells": [
  {
   "cell_type": "code",
   "execution_count": 1,
   "id": "ce5111e0-933e-42c8-b9a3-b61f0c5495a5",
   "metadata": {},
   "outputs": [],
   "source": [
    "import numpy as np\n",
    "import matplotlib.pyplot as plt\n",
    "import pandas as pd\n",
    "%matplotlib inline"
   ]
  },
  {
   "cell_type": "code",
   "execution_count": 2,
   "id": "11b8f7ea-5274-41c8-aafc-ede1be8d818f",
   "metadata": {},
   "outputs": [],
   "source": [
    "dfx = pd.read_csv('weightedX.csv')\n",
    "dfy = pd.read_csv('weightedY.csv')"
   ]
  },
  {
   "cell_type": "code",
   "execution_count": 3,
   "id": "18436cdd-2f1f-481a-bc13-8e8a4e59bd2a",
   "metadata": {},
   "outputs": [],
   "source": [
    "X = dfx.values\n",
    "Y = dfy.values"
   ]
  },
  {
   "cell_type": "code",
   "execution_count": 4,
   "id": "2c499efd-bf11-4781-8b09-39e7a0d523f8",
   "metadata": {},
   "outputs": [
    {
     "name": "stdout",
     "output_type": "stream",
     "text": [
      "(99, 1)\n",
      "(99, 1)\n"
     ]
    }
   ],
   "source": [
    "print(X.shape)\n",
    "print(Y.shape)"
   ]
  },
  {
   "cell_type": "code",
   "execution_count": 5,
   "id": "a72e33ce-56ef-4ff8-a712-3170d22f20ec",
   "metadata": {},
   "outputs": [],
   "source": [
    "plt.style.use(\"seaborn\")"
   ]
  },
  {
   "cell_type": "code",
   "execution_count": 6,
   "id": "05bdd759-ab74-414e-bf5e-1255c2d096ef",
   "metadata": {},
   "outputs": [
    {
     "data": {
      "image/png": "[encoded data removed]",
      "text/plain": [
       "<Figure size 576x396 with 1 Axes>"
      ]
     },
     "metadata": {},
     "output_type": "display_data"
    }
   ],
   "source": [
    "#Normalisze the Data\n",
    "\n",
    "u = X.mean()\n",
    "std = X.std()\n",
    "X = (X-u)/std\n",
    "\n",
    "plt.title(\"Normalized Data\")\n",
    "plt.scatter(X,Y)\n",
    "plt.show()"
   ]
  },
  {
   "cell_type": "code",
   "execution_count": 7,
   "id": "ee5f8ec1-4c64-42cb-b917-349ac467d545",
   "metadata": {},
   "outputs": [],
   "source": [
    "def getW(query_point,X,tau):\n",
    "    M = X.shape[0]\n",
    "    W = np.mat(np.eye(M))#creating diagonal matrix \n",
    "    \n",
    "    for i in range(M):\n",
    "        xi = X[i]\n",
    "        x  = query_point\n",
    "        W[i,i] =  np.exp(np.dot((xi-x),(xi-x).T)/(-2*tau*tau))\n",
    "    return W"
   ]
  },
  {
   "cell_type": "code",
   "execution_count": 8,
   "id": "fc9580dd-23cc-4ad9-a461-a28aebf61001",
   "metadata": {},
   "outputs": [
    {
     "name": "stdout",
     "output_type": "stream",
     "text": [
      "(99, 99)\n",
      "[[0.99997933 0.         0.         ... 0.         0.         0.        ]\n",
      " [0.         0.99999834 0.         ... 0.         0.         0.        ]\n",
      " [0.         0.         0.99997917 ... 0.         0.         0.        ]\n",
      " ...\n",
      " [0.         0.         0.         ... 0.99994881 0.         0.        ]\n",
      " [0.         0.         0.         ... 0.         0.99987121 0.        ]\n",
      " [0.         0.         0.         ... 0.         0.         0.99975348]]\n"
     ]
    }
   ],
   "source": [
    "X = np.mat(X)\n",
    "Y = np.mat(Y)\n",
    "M = X.shape[0]\n",
    "\n",
    "W = getW(-1,X,100)\n",
    "print(W.shape)\n",
    "print(W)"
   ]
  },
  {
   "cell_type": "code",
   "execution_count": 9,
   "id": "e567cab9-c1d8-40e0-9abc-2b00c00c3fc2",
   "metadata": {},
   "outputs": [],
   "source": [
    "def predict(X,Y,query_x,tau):\n",
    "    ones = np.ones((M,1))\n",
    "    X_ = np.hstack((X,ones))\n",
    "    \n",
    "    qx = np.mat([query_x,1])\n",
    "    \n",
    "    W = getW(qx,X_,tau)\n",
    "    \n",
    "    #theta = `(X′WX)inv * X′WY`\n",
    "    theta = np.linalg.pinv(X_.T*(W*X_))*(X_.T*(W*Y))\n",
    "    #print(theta.shape)\n",
    "    pred = np.dot(qx,theta)\n",
    "    return theta,pred"
   ]
  },
  {
   "cell_type": "code",
   "execution_count": 10,
   "id": "20521e68-27cf-42c7-97d6-15bf92f17469",
   "metadata": {},
   "outputs": [],
   "source": [
    "theta,pred = predict(X,Y,1.0,1.0)"
   ]
  },
  {
   "cell_type": "code",
   "execution_count": 11,
   "id": "b42b4aa3-3a6d-499d-972b-09d8a5fc85d6",
   "metadata": {},
   "outputs": [
    {
     "name": "stdout",
     "output_type": "stream",
     "text": [
      "[[0.14069504]\n",
      " [1.45348191]]\n"
     ]
    }
   ],
   "source": [
    "print(theta)"
   ]
  },
  {
   "cell_type": "code",
   "execution_count": 12,
   "id": "6df64e70-3ed1-4785-a538-865314a92af8",
   "metadata": {},
   "outputs": [
    {
     "name": "stdout",
     "output_type": "stream",
     "text": [
      "[[1.59417694]]\n"
     ]
    }
   ],
   "source": [
    "print(pred)"
   ]
  },
  {
   "cell_type": "code",
   "execution_count": null,
   "id": "5f014fa1-b65b-46c7-98b1-4d8f1f4b2606",
   "metadata": {},
   "outputs": [],
   "source": []
  }
 ],
 "metadata": {
  "kernelspec": {
   "display_name": "Python 3",
   "language": "python",
   "name": "python3"
  },
  "language_info": {
   "codemirror_mode": {
    "name": "ipython",
    "version": 3
   },
   "file_extension": ".py",
   "mimetype": "text/x-python",
   "name": "python",
   "nbconvert_exporter": "python",
   "pygments_lexer": "ipython3",
   "version": "3.8.8"
  }
 },
 "nbformat": 4,
 "nbformat_minor": 5
}
